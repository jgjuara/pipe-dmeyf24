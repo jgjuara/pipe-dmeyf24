{
 "cells": [
  {
   "cell_type": "code",
   "execution_count": 11,
   "metadata": {},
   "outputs": [],
   "source": [
    "import os\n",
    "import kaggle\n",
    "import pandas as pd"
   ]
  },
  {
   "cell_type": "code",
   "execution_count": 12,
   "metadata": {},
   "outputs": [],
   "source": [
    "api = KaggleApi()\n",
    "api.authenticate()\n",
    "competition = 'dm-ey-f-2024-primera'\n"
   ]
  },
  {
   "cell_type": "code",
   "execution_count": 13,
   "metadata": {},
   "outputs": [],
   "source": [
    "\n",
    "\n",
    "all_submissions = []\n",
    "page = 1\n",
    "page_size = 100  # Max number of submissions per page\n",
    "max_pages = 10  # Max number of pages to fetch\n",
    "\n",
    "while True:\n",
    "    # Get the submissions for the current page\n",
    "    submissions = kaggle.api.competition_submissions(competition, page_token=page, page_size=page_size)\n",
    "\n",
    "    # If no submissions are returned, we have reached the last page\n",
    "    if len(submissions) == 0 or page > max_pages:\n",
    "        break\n",
    "\n",
    "    # Append the submissions data\n",
    "    all_submissions.extend([{\n",
    "        'submission_id': sub.ref,\n",
    "        'date': sub.date,\n",
    "        'score': sub.publicScore,\n",
    "        'description': sub.description,\n",
    "        'fileName': sub.fileName,\n",
    "        'submittedBy': sub.submittedBy\n",
    "    } for sub in submissions])\n",
    "\n",
    "    # Move to the next page\n",
    "    page += 1\n",
    "\n",
    "\n"
   ]
  },
  {
   "cell_type": "code",
   "execution_count": 14,
   "metadata": {},
   "outputs": [
    {
     "name": "stdout",
     "output_type": "stream",
     "text": [
      "Submission scores saved to 'my_kaggle_submissions.csv'\n"
     ]
    }
   ],
   "source": [
    "# Convert the list into a DataFrame for better readability and manipulation\n",
    "df = pd.DataFrame(all_submissions)\n",
    "\n",
    "# Optionally, save the scores to a CSV file\n",
    "df.to_csv('./scores/my_kaggle_submissions.csv', index=False)\n",
    "\n",
    "print(\"Submission scores saved to 'my_kaggle_submissions.csv'\")"
   ]
  }
 ],
 "metadata": {
  "kernelspec": {
   "display_name": "Python 3",
   "language": "python",
   "name": "python3"
  },
  "language_info": {
   "codemirror_mode": {
    "name": "ipython",
    "version": 3
   },
   "file_extension": ".py",
   "mimetype": "text/x-python",
   "name": "python",
   "nbconvert_exporter": "python",
   "pygments_lexer": "ipython3",
   "version": "3.12.1"
  }
 },
 "nbformat": 4,
 "nbformat_minor": 2
}

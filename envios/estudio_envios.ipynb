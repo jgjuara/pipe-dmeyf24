{
 "cells": [
  {
   "cell_type": "code",
   "execution_count": null,
   "metadata": {},
   "outputs": [],
   "source": []
  },
  {
   "cell_type": "code",
   "execution_count": null,
   "metadata": {},
   "outputs": [],
   "source": [
    "# Get your submission history for the competition\n",
    "submissions = api.competition_submissions(competition, page_size=100)\n",
    "\n",
    "# Create a list of dictionaries to store submission details\n",
    "submission_list = []\n",
    "\n",
    "for submission in submissions:\n",
    "    submission_info = {\n",
    "        'SubmissionId': submission.ref,\n",
    "        'FileName': submission.fileName,\n",
    "        'Date': submission.date,\n",
    "        'Score': submission.publicScore,\n",
    "        'Description': submission.description\n",
    "    }\n",
    "    submission_list.append(submission_info)\n",
    "\n",
    "# Convert the list into a DataFrame for better readability and manipulation\n",
    "df = pd.DataFrame(submission_list)\n",
    "\n",
    "# Optionally, save the scores to a CSV file\n",
    "df.to_csv('./scores/my_kaggle_submissions.csv', index=False)\n",
    "\n",
    "print(\"Submission scores saved to 'my_kaggle_submissions.csv'\")\n",
    "\n",
    "df = pd.read_csv('./scores/my_kaggle_submissions.csv')\n",
    "df.head()\n",
    "\n",
    "# extract the number of sends from the file name\n",
    "df['sends'] = df['FileName'].str.extract(r'_(\\d+).csv').astype(int)"
   ]
  },
  {
   "cell_type": "code",
   "execution_count": 3,
   "metadata": {},
   "outputs": [],
   "source": [
    "# read the file C:/Users/jgjua/Downloads/Ficha_Buenos Aires.csv \n",
    "import pandas as pd\n",
    "df2 = pd.read_csv('C:/Users/jgjua/Downloads/Ficha_Buenos Aires.csv', encoding='latin1')"
   ]
  },
  {
   "cell_type": "code",
   "execution_count": 5,
   "metadata": {},
   "outputs": [
    {
     "data": {
      "text/plain": [
       "Index(['Código HS 1992', 'Product Name EN', 'Nombre Producto ES',\n",
       "       'Sección Atlas', 'Sección 2 dígitos',\n",
       "       'Índice de complejidad de producto (ICP)',\n",
       "       'Ranking de complejidad producto',\n",
       "       'Tendencia mercado 2014-2019 (nominal / share)', 'Potencial exportador',\n",
       "       'FOB Buenos Aires', 'VCR Buenos Aires',\n",
       "       'Compatibilidad con Buenos Aires',\n",
       "       'Valor estratégico para Buenos Aires',\n",
       "       'Indice Recuperacion de posiciones - Buenos Aires',\n",
       "       'Indice Oportunidades cercanas - Buenos Aires',\n",
       "       'Indice Objetivos factibles - Buenos Aires',\n",
       "       'Indice Apuestas ambiciosas - Buenos Aires',\n",
       "       'Top 20 criterios Buenos Aires', 'Empleo 2021', 'Empresas 2020',\n",
       "       'Tasa fem'],\n",
       "      dtype='object')"
      ]
     },
     "execution_count": 5,
     "metadata": {},
     "output_type": "execute_result"
    }
   ],
   "source": [
    "df2.columns"
   ]
  },
  {
   "cell_type": "code",
   "execution_count": 11,
   "metadata": {},
   "outputs": [
    {
     "name": "stdout",
     "output_type": "stream",
     "text": [
      "Collecting unidecodeNote: you may need to restart the kernel to use updated packages.\n"
     ]
    },
    {
     "name": "stderr",
     "output_type": "stream",
     "text": [
      "\n",
      "[notice] A new release of pip is available: 24.0 -> 24.2\n",
      "[notice] To update, run: python.exe -m pip install --upgrade pip\n"
     ]
    },
    {
     "name": "stdout",
     "output_type": "stream",
     "text": [
      "\n",
      "  Downloading Unidecode-1.3.8-py3-none-any.whl.metadata (13 kB)\n",
      "Downloading Unidecode-1.3.8-py3-none-any.whl (235 kB)\n",
      "   ---------------------------------------- 0.0/235.5 kB ? eta -:--:--\n",
      "   - -------------------------------------- 10.2/235.5 kB ? eta -:--:--\n",
      "   ----- --------------------------------- 30.7/235.5 kB 660.6 kB/s eta 0:00:01\n",
      "   --------------- ----------------------- 92.2/235.5 kB 880.9 kB/s eta 0:00:01\n",
      "   ----------------------------- ---------- 174.1/235.5 kB 1.3 MB/s eta 0:00:01\n",
      "   ---------------------------------------- 235.5/235.5 kB 1.1 MB/s eta 0:00:00\n",
      "Installing collected packages: unidecode\n",
      "Successfully installed unidecode-1.3.8\n"
     ]
    }
   ],
   "source": [
    "pip install unidecode"
   ]
  },
  {
   "cell_type": "code",
   "execution_count": 12,
   "metadata": {},
   "outputs": [
    {
     "data": {
      "text/plain": [
       "'Cenia'"
      ]
     },
     "execution_count": 12,
     "metadata": {},
     "output_type": "execute_result"
    }
   ],
   "source": [
    "from unidecode import unidecode\n",
    "import re\n",
    "import pandas as pd"
   ]
  },
  {
   "cell_type": "code",
   "execution_count": null,
   "metadata": {},
   "outputs": [],
   "source": [
    "# fijate que el encoding quedo en latin 1\n",
    "df2 = pd.read_csv('C:/Users/jgjua/Downloads/Ficha_Buenos Aires.csv', encoding='latin1')\n"
   ]
  },
  {
   "cell_type": "code",
   "execution_count": 19,
   "metadata": {},
   "outputs": [],
   "source": [
    "# replace all non ascii characters with a '' in df2.columns\n",
    "columnas = [unidecode(x) for x in df2.columns.str.lower()]\n"
   ]
  },
  {
   "cell_type": "code",
   "execution_count": 22,
   "metadata": {},
   "outputs": [
    {
     "data": {
      "text/plain": [
       "['codigo hs 1992',\n",
       " 'product name en',\n",
       " 'nombre producto es',\n",
       " 'seccion atlas',\n",
       " 'seccion 2 digitos',\n",
       " 'indice de complejidad de producto (icp)',\n",
       " 'ranking de complejidad producto',\n",
       " 'tendencia mercado 2014-2019 (nominal / share)',\n",
       " 'potencial exportador',\n",
       " 'fob buenos aires',\n",
       " 'vcr buenos aires',\n",
       " 'compatibilidad con buenos aires',\n",
       " 'valor estrategico para buenos aires',\n",
       " 'indice recuperacion de posiciones - buenos aires',\n",
       " 'indice oportunidades cercanas - buenos aires',\n",
       " 'indice objetivos factibles - buenos aires',\n",
       " 'indice apuestas ambiciosas - buenos aires',\n",
       " 'top 20 criterios buenos aires',\n",
       " 'empleo 2021',\n",
       " 'empresas 2020',\n",
       " 'tasa fem']"
      ]
     },
     "execution_count": 22,
     "metadata": {},
     "output_type": "execute_result"
    }
   ],
   "source": [
    "columnas"
   ]
  },
  {
   "cell_type": "code",
   "execution_count": 23,
   "metadata": {},
   "outputs": [
    {
     "data": {
      "text/plain": [
       "['codigo_hs_1992',\n",
       " 'product_name_en',\n",
       " 'nombre_producto_es',\n",
       " 'seccion_atlas',\n",
       " 'seccion_2_digitos',\n",
       " 'indice_de_complejidad_de_producto_icp_',\n",
       " 'ranking_de_complejidad_producto',\n",
       " 'tendencia_mercado_2014_2019_nominal_share_',\n",
       " 'potencial_exportador',\n",
       " 'fob_buenos_aires',\n",
       " 'vcr_buenos_aires',\n",
       " 'compatibilidad_con_buenos_aires',\n",
       " 'valor_estrategico_para_buenos_aires',\n",
       " 'indice_recuperacion_de_posiciones_buenos_aires',\n",
       " 'indice_oportunidades_cercanas_buenos_aires',\n",
       " 'indice_objetivos_factibles_buenos_aires',\n",
       " 'indice_apuestas_ambiciosas_buenos_aires',\n",
       " 'top_20_criterios_buenos_aires',\n",
       " 'empleo_2021',\n",
       " 'empresas_2020',\n",
       " 'tasa_fem']"
      ]
     },
     "execution_count": 23,
     "metadata": {},
     "output_type": "execute_result"
    }
   ],
   "source": [
    "# \n",
    "columnas = [re.sub(r'[\\W-]+', '_', x) for x in columnas]"
   ]
  },
  {
   "cell_type": "code",
   "execution_count": 6,
   "metadata": {},
   "outputs": [
    {
     "data": {
      "text/plain": [
       "Index(['código hs 1992', 'product name en', 'nombre producto es',\n",
       "       'sección atlas', 'sección 2 dígitos',\n",
       "       'índice de complejidad de producto (icp)',\n",
       "       'ranking de complejidad producto',\n",
       "       'tendencia mercado 2014-2019 (nominal / share)', 'potencial exportador',\n",
       "       'fob buenos aires', 'vcr buenos aires',\n",
       "       'compatibilidad con buenos aires',\n",
       "       'valor estratégico para buenos aires',\n",
       "       'indice recuperacion de posiciones - buenos aires',\n",
       "       'indice oportunidades cercanas - buenos aires',\n",
       "       'indice objetivos factibles - buenos aires',\n",
       "       'indice apuestas ambiciosas - buenos aires',\n",
       "       'top 20 criterios buenos aires', 'empleo 2021', 'empresas 2020',\n",
       "       'tasa fem'],\n",
       "      dtype='object')"
      ]
     },
     "execution_count": 6,
     "metadata": {},
     "output_type": "execute_result"
    }
   ],
   "source": [
    "df2.columns.str.lower()"
   ]
  },
  {
   "cell_type": "code",
   "execution_count": null,
   "metadata": {},
   "outputs": [],
   "source": [
    "diccionario_columnas = {}"
   ]
  },
  {
   "cell_type": "code",
   "execution_count": null,
   "metadata": {},
   "outputs": [],
   "source": [
    "df2.rename(columns= diccionario_columnas, inplace=True)"
   ]
  }
 ],
 "metadata": {
  "kernelspec": {
   "display_name": "Python 3",
   "language": "python",
   "name": "python3"
  },
  "language_info": {
   "codemirror_mode": {
    "name": "ipython",
    "version": 3
   },
   "file_extension": ".py",
   "mimetype": "text/x-python",
   "name": "python",
   "nbconvert_exporter": "python",
   "pygments_lexer": "ipython3",
   "version": "3.12.1"
  }
 },
 "nbformat": 4,
 "nbformat_minor": 2
}

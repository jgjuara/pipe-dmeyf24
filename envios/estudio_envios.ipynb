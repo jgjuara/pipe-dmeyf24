{
 "cells": [
  {
   "cell_type": "code",
   "execution_count": null,
   "metadata": {},
   "outputs": [],
   "source": [
    "# Get your submission history for the competition\n",
    "submissions = api.competition_submissions(competition, page_size=100)\n",
    "\n",
    "# Create a list of dictionaries to store submission details\n",
    "submission_list = []\n",
    "\n",
    "for submission in submissions:\n",
    "    submission_info = {\n",
    "        'SubmissionId': submission.ref,\n",
    "        'FileName': submission.fileName,\n",
    "        'Date': submission.date,\n",
    "        'Score': submission.publicScore,\n",
    "        'Description': submission.description\n",
    "    }\n",
    "    submission_list.append(submission_info)\n",
    "\n",
    "# Convert the list into a DataFrame for better readability and manipulation\n",
    "df = pd.DataFrame(submission_list)\n",
    "\n",
    "# Optionally, save the scores to a CSV file\n",
    "df.to_csv('./scores/my_kaggle_submissions.csv', index=False)\n",
    "\n",
    "print(\"Submission scores saved to 'my_kaggle_submissions.csv'\")\n",
    "\n",
    "df = pd.read_csv('./scores/my_kaggle_submissions.csv')\n",
    "df.head()\n",
    "\n",
    "# extract the number of sends from the file name\n",
    "df['sends'] = df['FileName'].str.extract(r'_(\\d+).csv').astype(int)"
   ]
  }
 ],
 "metadata": {
  "language_info": {
   "name": "python"
  }
 },
 "nbformat": 4,
 "nbformat_minor": 2
}
